{
 "cells": [
  {
   "cell_type": "markdown",
   "id": "e2b10697",
   "metadata": {},
   "source": [
    "# Breast Cancer Histology Imaging\n",
    "mkfold.py -- from: https://web.inf.ufpr.br/vri/databases/breast-cancer-histopathological-database-breakhis/\n",
    "(Spanhol et al., 2016)"
   ]
  },
  {
   "cell_type": "markdown",
   "id": "e88e1714",
   "metadata": {},
   "source": [
    "# Keras Modeling\n",
    "Processing and visualization scripts adapted from: https://www.analyticsvidhya.com/blog/2020/10/create-image-classification-model-python-keras/"
   ]
  },
  {
   "cell_type": "code",
   "execution_count": 1,
   "id": "b12b97d9",
   "metadata": {},
   "outputs": [],
   "source": [
    "import numpy as np\n",
    "import pandas as pd\n",
    "import matplotlib.pyplot as plt\n",
    "import seaborn as sns\n",
    "from sklearn.metrics import classification_report,confusion_matrix\n",
    "\n",
    "from collections import Counter\n",
    "import cv2\n",
    "import os\n",
    "\n",
    "import tensorflow as tf\n",
    "import keras\n",
    "from keras.models import Sequential\n",
    "from keras.layers import Dense, Conv2D , MaxPool2D , Flatten , Dropout \n",
    "from keras.preprocessing.image import ImageDataGenerator\n",
    "from keras.optimizer_v1 import Adam\n",
    "\n",
    "from tensorflow.keras.models import Sequential\n",
    "from tensorflow.keras.layers import Dense, Dropout, Activation, Flatten\n",
    "from tensorflow.keras.layers import Conv2D, MaxPooling2D\n",
    "from tensorflow.keras.callbacks import TensorBoard"
   ]
  },
  {
   "cell_type": "markdown",
   "id": "cf3f15df",
   "metadata": {},
   "source": [
    "# Labeling Scripts"
   ]
  },
  {
   "cell_type": "code",
   "execution_count": 17,
   "id": "e1b100dd",
   "metadata": {},
   "outputs": [],
   "source": [
    "# For 2-class classification\n",
    "img_size = 224\n",
    "def get_data(data_dir):\n",
    "    data = [] \n",
    "    path = data_dir\n",
    "    for img in os.listdir(path):\n",
    "        if img[4] == 'B':\n",
    "            class_num = 0\n",
    "        else:\n",
    "            class_num = 1\n",
    "        try:\n",
    "            img_arr = cv2.imread(os.path.join(path, img))[...,::-1] #convert BGR to RGB format\n",
    "            resized_arr = cv2.resize(img_arr, (img_size, img_size)) # Reshaping images to preferred size\n",
    "            data.append([resized_arr, class_num])\n",
    "        except Exception as e:\n",
    "            print(e)\n",
    "    return np.array(data)"
   ]
  },
  {
   "cell_type": "code",
   "execution_count": 4,
   "id": "f516a375",
   "metadata": {},
   "outputs": [],
   "source": [
    "## For multiclass classification\n",
    "img_size = 224\n",
    "def get_data_MC(data_dir):\n",
    "    data = [] \n",
    "    path = data_dir\n",
    "    for img in os.listdir(path):\n",
    "        name1 = img.split(\"-\")\n",
    "        name2 = name1[0].split(\"_\")\n",
    "        label = name2[2]\n",
    "\n",
    "        if label == 'A':\n",
    "            class_num = 0\n",
    "        elif label == 'F':\n",
    "            class_num = 1\n",
    "        elif label == 'PT':\n",
    "            class_num = 2\n",
    "        elif label == 'TA':\n",
    "            class_num = 3\n",
    "        elif label == 'DC':\n",
    "            class_num = 4\n",
    "        elif label == 'LC':\n",
    "            class_num = 5\n",
    "        elif label == 'MC':\n",
    "            class_num = 6\n",
    "        elif label == 'PC':\n",
    "            class_num = 7\n",
    "            \n",
    "        try:\n",
    "            img_arr = cv2.imread(os.path.join(path, img))[...,::-1] #convert BGR to RGB format\n",
    "            resized_arr = cv2.resize(img_arr, (img_size, img_size)) # Reshaping images to preferred size\n",
    "            data.append([resized_arr, class_num])\n",
    "        except Exception as e:\n",
    "            print(e)\n",
    "    return np.array(data)"
   ]
  },
  {
   "cell_type": "code",
   "execution_count": 19,
   "id": "c44bd29a",
   "metadata": {},
   "outputs": [
    {
     "name": "stderr",
     "output_type": "stream",
     "text": [
      "<ipython-input-4-c462abe301ac>:36: VisibleDeprecationWarning: Creating an ndarray from ragged nested sequences (which is a list-or-tuple of lists-or-tuples-or ndarrays with different lengths or shapes) is deprecated. If you meant to do this, you must specify 'dtype=object' when creating the ndarray.\n",
      "  return np.array(data)\n"
     ]
    }
   ],
   "source": [
    "# 40X MAG\n",
    "\n",
    "train41 = get_data_MC('./fold1/train/40X')\n",
    "val41 = get_data_MC('./fold1/test/40X')\n",
    "\n",
    "train42 = get_data_MC('./fold2/train/40X')\n",
    "val42 = get_data_MC('./fold2/test/40X')\n",
    "\n",
    "train43 = get_data_MC('./fold3/train/40X')\n",
    "val43 = get_data_MC('./fold3/test/40X')\n",
    "\n",
    "train44 = get_data_MC('./fold4/train/40X')\n",
    "val44 = get_data_MC('./fold4/test/40X')\n",
    "\n",
    "train45 = get_data_MC('./fold5/train/40X')\n",
    "val45= get_data_MC('./fold5/test/40X')\n",
    "\n",
    "train_set40 = [train41, train42, train43, train44, train45]\n",
    "val_set40 = [val41, val42, val43, val44, val45]"
   ]
  },
  {
   "cell_type": "code",
   "execution_count": 5,
   "id": "5096c389",
   "metadata": {},
   "outputs": [
    {
     "name": "stderr",
     "output_type": "stream",
     "text": [
      "<ipython-input-4-c462abe301ac>:36: VisibleDeprecationWarning: Creating an ndarray from ragged nested sequences (which is a list-or-tuple of lists-or-tuples-or ndarrays with different lengths or shapes) is deprecated. If you meant to do this, you must specify 'dtype=object' when creating the ndarray.\n",
      "  return np.array(data)\n"
     ]
    }
   ],
   "source": [
    "# 100X MAG\n",
    "\n",
    "train1 = get_data_MC('./fold1/train/100X')\n",
    "val1 = get_data_MC('./fold1/test/100X')\n",
    "\n",
    "train2 = get_data_MC('./fold2/train/100X')\n",
    "val2 = get_data_MC('./fold2/test/100X')\n",
    "\n",
    "train3 = get_data_MC('./fold3/train/100X')\n",
    "val3 = get_data_MC('./fold3/test/100X')\n",
    "\n",
    "train4 = get_data_MC('./fold4/train/100X')\n",
    "val4 = get_data_MC('./fold4/test/100X')\n",
    "\n",
    "train5 = get_data_MC('./fold5/train/100X')\n",
    "val5= get_data_MC('./fold5/test/100X')\n",
    "\n",
    "train_set = [train1, train2, train3, train4, train5]\n",
    "val_set = [val1, val2, val3, val4, val5]"
   ]
  },
  {
   "cell_type": "code",
   "execution_count": 21,
   "id": "dc944ec5",
   "metadata": {},
   "outputs": [
    {
     "name": "stderr",
     "output_type": "stream",
     "text": [
      "<ipython-input-4-c462abe301ac>:36: VisibleDeprecationWarning: Creating an ndarray from ragged nested sequences (which is a list-or-tuple of lists-or-tuples-or ndarrays with different lengths or shapes) is deprecated. If you meant to do this, you must specify 'dtype=object' when creating the ndarray.\n",
      "  return np.array(data)\n"
     ]
    }
   ],
   "source": [
    "train21 = get_data_MC('./fold1/train/200X')\n",
    "val21 = get_data_MC('./fold1/test/200X')\n",
    "\n",
    "train22 = get_data_MC('./fold2/train/200X')\n",
    "val22 = get_data_MC('./fold2/test/200X')\n",
    "\n",
    "train23 = get_data_MC('./fold3/train/200X')\n",
    "val23 = get_data_MC('./fold3/test/200X')\n",
    "\n",
    "train24 = get_data_MC('./fold4/train/200X')\n",
    "val24 = get_data_MC('./fold4/test/200X')\n",
    "\n",
    "train25 = get_data_MC('./fold5/train/200X')\n",
    "val25= get_data_MC('./fold5/test/200X')\n",
    "\n",
    "train_set200 = [train21, train22, train23, train24, train25]\n",
    "val_set200 = [val21, val22, val23, val24, val25]"
   ]
  },
  {
   "cell_type": "code",
   "execution_count": 22,
   "id": "38214354",
   "metadata": {},
   "outputs": [
    {
     "name": "stderr",
     "output_type": "stream",
     "text": [
      "<ipython-input-4-c462abe301ac>:36: VisibleDeprecationWarning: Creating an ndarray from ragged nested sequences (which is a list-or-tuple of lists-or-tuples-or ndarrays with different lengths or shapes) is deprecated. If you meant to do this, you must specify 'dtype=object' when creating the ndarray.\n",
      "  return np.array(data)\n"
     ]
    }
   ],
   "source": [
    "train421 = get_data_MC('./fold1/train/400X')\n",
    "val421 = get_data_MC('./fold1/test/400X')\n",
    "\n",
    "train422 = get_data_MC('./fold2/train/400X')\n",
    "val422 = get_data_MC('./fold2/test/400X')\n",
    "\n",
    "train423 = get_data_MC('./fold3/train/400X')\n",
    "val423 = get_data_MC('./fold3/test/400X')\n",
    "\n",
    "train424 = get_data_MC('./fold4/train/400X')\n",
    "val424 = get_data_MC('./fold4/test/400X')\n",
    "\n",
    "train425 = get_data_MC('./fold5/train/400X')\n",
    "val425= get_data_MC('./fold5/test/400X')\n",
    "\n",
    "train_set400 = [train421, train422, train423, train424, train425]\n",
    "val_set400 = [val421, val422, val423, val424, val425]"
   ]
  },
  {
   "cell_type": "code",
   "execution_count": 12,
   "id": "fa0015fd",
   "metadata": {},
   "outputs": [],
   "source": [
    "# explore how many of each type are in all training data combined\n",
    "\n",
    "x = []\n",
    "for fold in train_set:\n",
    "    for i in fold:\n",
    "        if i[1] == 0:\n",
    "            x.append(\"A\")\n",
    "        elif i[1] == 1:\n",
    "            x.append(\"F\")\n",
    "        elif i[1] == 2:\n",
    "            x.append(\"PT\")\n",
    "        elif i[1] == 3:\n",
    "            x.append(\"TA\")\n",
    "        elif i[1] == 4:\n",
    "            x.append(\"DC\")\n",
    "        elif i[1] == 5:\n",
    "            x.append(\"LC\")\n",
    "        elif i[1] == 6:\n",
    "            x.append(\"MC\")\n",
    "        elif i[1] == 7:\n",
    "            x.append(\"PC\")"
   ]
  },
  {
   "cell_type": "code",
   "execution_count": 13,
   "id": "1eb69dda",
   "metadata": {},
   "outputs": [
    {
     "data": {
      "text/plain": [
       "<AxesSubplot:ylabel='count'>"
      ]
     },
     "execution_count": 13,
     "metadata": {},
     "output_type": "execute_result"
    },
    {
     "data": {
      "image/png": "[encoded data removed]",
      "text/plain": [
       "<Figure size 432x288 with 1 Axes>"
      ]
     },
     "metadata": {},
     "output_type": "display_data"
    }
   ],
   "source": [
    "sns.set_style('darkgrid')\n",
    "sns.countplot(x)"
   ]
  },
  {
   "cell_type": "code",
   "execution_count": 14,
   "id": "18c7565b",
   "metadata": {},
   "outputs": [
    {
     "data": {
      "text/plain": [
       "Counter({'A': 290,\n",
       "         'F': 939,\n",
       "         'PT': 379,\n",
       "         'TA': 430,\n",
       "         'DC': 3105,\n",
       "         'LC': 526,\n",
       "         'MC': 678,\n",
       "         'PC': 490})"
      ]
     },
     "execution_count": 14,
     "metadata": {},
     "output_type": "execute_result"
    }
   ],
   "source": [
    "Counter(x)"
   ]
  },
  {
   "cell_type": "code",
   "execution_count": 15,
   "id": "4e469018",
   "metadata": {},
   "outputs": [],
   "source": [
    "# explore how many of each type are in all testing data combined\n",
    "\n",
    "y = []\n",
    "for fold in val_set:\n",
    "    for i in fold:\n",
    "        if i[1] == 0:\n",
    "            y.append(\"A\")\n",
    "        elif i[1] == 1:\n",
    "            y.append(\"F\")\n",
    "        elif i[1] == 2:\n",
    "            y.append(\"PT\")\n",
    "        elif i[1] == 3:\n",
    "            y.append(\"TA\")\n",
    "        elif i[1] == 4:\n",
    "            y.append(\"DC\")\n",
    "        elif i[1] == 5:\n",
    "            y.append(\"LC\")\n",
    "        elif i[1] == 6:\n",
    "            y.append(\"MC\")\n",
    "        elif i[1] == 7:\n",
    "            y.append(\"PC\")"
   ]
  },
  {
   "cell_type": "code",
   "execution_count": 16,
   "id": "bde43606",
   "metadata": {},
   "outputs": [
    {
     "name": "stderr",
     "output_type": "stream",
     "text": [
      "C:\\Users\\sahit\\Anaconda3\\lib\\site-packages\\seaborn\\_decorators.py:36: FutureWarning: Pass the following variable as a keyword arg: x. From version 0.12, the only valid positional argument will be `data`, and passing other arguments without an explicit keyword will result in an error or misinterpretation.\n",
      "  warnings.warn(\n"
     ]
    },
    {
     "data": {
      "text/plain": [
       "<AxesSubplot:ylabel='count'>"
      ]
     },
     "execution_count": 16,
     "metadata": {},
     "output_type": "execute_result"
    },
    {
     "data": {
      "image/png": "[encoded data removed]",
      "text/plain": [
       "<Figure size 432x288 with 1 Axes>"
      ]
     },
     "metadata": {},
     "output_type": "display_data"
    }
   ],
   "source": [
    "sns.set_style('darkgrid')\n",
    "sns.countplot(y)"
   ]
  },
  {
   "cell_type": "code",
   "execution_count": 17,
   "id": "d5c07f7c",
   "metadata": {},
   "outputs": [
    {
     "data": {
      "text/plain": [
       "Counter({'A': 275,\n",
       "         'F': 361,\n",
       "         'PT': 226,\n",
       "         'TA': 320,\n",
       "         'DC': 1410,\n",
       "         'LC': 324,\n",
       "         'MC': 432,\n",
       "         'PC': 220})"
      ]
     },
     "execution_count": 17,
     "metadata": {},
     "output_type": "execute_result"
    }
   ],
   "source": [
    "Counter(y)"
   ]
  },
  {
   "cell_type": "markdown",
   "id": "ef6a63a2",
   "metadata": {},
   "source": [
    "# Visualize overall data for each magnification"
   ]
  },
  {
   "cell_type": "code",
   "execution_count": 43,
   "id": "7715aba2",
   "metadata": {},
   "outputs": [],
   "source": [
    "def data_analysis(train_set, val_set):\n",
    "    x = []\n",
    "    for fold in train_set:\n",
    "        for i in fold:\n",
    "            if i[1] == 0:\n",
    "                x.append(\"A\")\n",
    "            elif i[1] == 1:\n",
    "                x.append(\"F\")\n",
    "            elif i[1] == 2:\n",
    "                x.append(\"PT\")\n",
    "            elif i[1] == 3:\n",
    "                x.append(\"TA\")\n",
    "            elif i[1] == 4:\n",
    "                x.append(\"DC\")\n",
    "            elif i[1] == 5:\n",
    "                x.append(\"LC\")\n",
    "            elif i[1] == 6:\n",
    "                x.append(\"MC\")\n",
    "            elif i[1] == 7:\n",
    "                x.append(\"PC\")\n",
    "                \n",
    "    y = []\n",
    "    for fold_v in val_set:\n",
    "        for j in fold_v:\n",
    "            if j[1] == 0:\n",
    "                y.append(\"A\")\n",
    "            elif j[1] == 1:\n",
    "                y.append(\"F\")\n",
    "            elif j[1] == 2:\n",
    "                y.append(\"PT\")\n",
    "            elif j[1] == 3:\n",
    "                y.append(\"TA\")\n",
    "            elif j[1] == 4:\n",
    "                y.append(\"DC\")\n",
    "            elif j[1] == 5:\n",
    "                y.append(\"LC\")\n",
    "            elif j[1] == 6:\n",
    "                y.append(\"MC\")\n",
    "            elif j[1] == 7:\n",
    "                y.append(\"PC\")\n",
    "                \n",
    "        sns.set_style('darkgrid')\n",
    "        sns.countplot(x)\n",
    "\n",
    "        sns.set_style('darkgrid')\n",
    "        sns.countplot(y)\n",
    "        \n",
    "        print(\"X:\", Counter(x))\n",
    "        print(\"Y:\", Counter(y))"
   ]
  },
  {
   "cell_type": "code",
   "execution_count": 44,
   "id": "a89e862e",
   "metadata": {},
   "outputs": [
    {
     "name": "stderr",
     "output_type": "stream",
     "text": [
      "C:\\Users\\sahit\\Anaconda3\\lib\\site-packages\\seaborn\\_decorators.py:36: FutureWarning: Pass the following variable as a keyword arg: x. From version 0.12, the only valid positional argument will be `data`, and passing other arguments without an explicit keyword will result in an error or misinterpretation.\n",
      "  warnings.warn(\n",
      "C:\\Users\\sahit\\Anaconda3\\lib\\site-packages\\seaborn\\_decorators.py:36: FutureWarning: Pass the following variable as a keyword arg: x. From version 0.12, the only valid positional argument will be `data`, and passing other arguments without an explicit keyword will result in an error or misinterpretation.\n",
      "  warnings.warn(\n",
      "C:\\Users\\sahit\\Anaconda3\\lib\\site-packages\\seaborn\\_decorators.py:36: FutureWarning: Pass the following variable as a keyword arg: x. From version 0.12, the only valid positional argument will be `data`, and passing other arguments without an explicit keyword will result in an error or misinterpretation.\n",
      "  warnings.warn(\n",
      "C:\\Users\\sahit\\Anaconda3\\lib\\site-packages\\seaborn\\_decorators.py:36: FutureWarning: Pass the following variable as a keyword arg: x. From version 0.12, the only valid positional argument will be `data`, and passing other arguments without an explicit keyword will result in an error or misinterpretation.\n",
      "  warnings.warn(\n"
     ]
    },
    {
     "name": "stdout",
     "output_type": "stream",
     "text": [
      "X: Counter({'DC': 2895, 'F': 904, 'MC': 635, 'PC': 493, 'LC': 478, 'TA': 429, 'PT': 340, 'A': 292})\n",
      "Y: Counter({'DC': 298, 'LC': 83, 'F': 80, 'TA': 67, 'MC': 62, 'PT': 58, 'A': 50, 'PC': 47})\n",
      "X: Counter({'DC': 2895, 'F': 904, 'MC': 635, 'PC': 493, 'LC': 478, 'TA': 429, 'PT': 340, 'A': 292})\n",
      "Y: Counter({'DC': 537, 'LC': 156, 'MC': 150, 'F': 146, 'TA': 130, 'A': 100, 'PC': 87, 'PT': 71})\n",
      "X: Counter({'DC': 2895, 'F': 904, 'MC': 635, 'PC': 493, 'LC': 478, 'TA': 429, 'PT': 340, 'A': 292})"
     ]
    },
    {
     "name": "stderr",
     "output_type": "stream",
     "text": [
      "C:\\Users\\sahit\\Anaconda3\\lib\\site-packages\\seaborn\\_decorators.py:36: FutureWarning: Pass the following variable as a keyword arg: x. From version 0.12, the only valid positional argument will be `data`, and passing other arguments without an explicit keyword will result in an error or misinterpretation.\n",
      "  warnings.warn(\n",
      "C:\\Users\\sahit\\Anaconda3\\lib\\site-packages\\seaborn\\_decorators.py:36: FutureWarning: Pass the following variable as a keyword arg: x. From version 0.12, the only valid positional argument will be `data`, and passing other arguments without an explicit keyword will result in an error or misinterpretation.\n",
      "  warnings.warn(\n",
      "C:\\Users\\sahit\\Anaconda3\\lib\\site-packages\\seaborn\\_decorators.py:36: FutureWarning: Pass the following variable as a keyword arg: x. From version 0.12, the only valid positional argument will be `data`, and passing other arguments without an explicit keyword will result in an error or misinterpretation.\n",
      "  warnings.warn(\n",
      "C:\\Users\\sahit\\Anaconda3\\lib\\site-packages\\seaborn\\_decorators.py:36: FutureWarning: Pass the following variable as a keyword arg: x. From version 0.12, the only valid positional argument will be `data`, and passing other arguments without an explicit keyword will result in an error or misinterpretation.\n",
      "  warnings.warn(\n",
      "C:\\Users\\sahit\\Anaconda3\\lib\\site-packages\\seaborn\\_decorators.py:36: FutureWarning: Pass the following variable as a keyword arg: x. From version 0.12, the only valid positional argument will be `data`, and passing other arguments without an explicit keyword will result in an error or misinterpretation.\n",
      "  warnings.warn(\n"
     ]
    },
    {
     "name": "stdout",
     "output_type": "stream",
     "text": [
      "\n",
      "Y: Counter({'DC': 814, 'MC': 221, 'F': 212, 'LC': 209, 'TA': 178, 'A': 150, 'PC': 141, 'PT': 109})\n",
      "X: Counter({'DC': 2895, 'F': 904, 'MC': 635, 'PC': 493, 'LC': 478, 'TA': 429, 'PT': 340, 'A': 292})\n",
      "Y: Counter({'DC': 1103, 'MC': 298, 'F': 284, 'LC': 260, 'TA': 245, 'A': 214, 'PC': 183, 'PT': 147})\n"
     ]
    },
    {
     "name": "stderr",
     "output_type": "stream",
     "text": [
      "C:\\Users\\sahit\\Anaconda3\\lib\\site-packages\\seaborn\\_decorators.py:36: FutureWarning: Pass the following variable as a keyword arg: x. From version 0.12, the only valid positional argument will be `data`, and passing other arguments without an explicit keyword will result in an error or misinterpretation.\n",
      "  warnings.warn(\n"
     ]
    },
    {
     "name": "stdout",
     "output_type": "stream",
     "text": [
      "X: Counter({'DC': 2895, 'F': 904, 'MC': 635, 'PC': 493, 'LC': 478, 'TA': 429, 'PT': 340, 'A': 292})\n",
      "Y: Counter({'DC': 1425, 'MC': 390, 'F': 361, 'TA': 316, 'LC': 302, 'A': 278, 'PC': 232, 'PT': 205})\n"
     ]
    },
    {
     "data": {
      "image/png": "[encoded data removed]",
      "text/plain": [
       "<Figure size 432x288 with 1 Axes>"
      ]
     },
     "metadata": {},
     "output_type": "display_data"
    }
   ],
   "source": [
    "# 40X\n",
    "data_analysis(train_set40, val_set40)"
   ]
  },
  {
   "cell_type": "code",
   "execution_count": 47,
   "id": "f5245b32",
   "metadata": {},
   "outputs": [
    {
     "name": "stderr",
     "output_type": "stream",
     "text": [
      "C:\\Users\\sahit\\Anaconda3\\lib\\site-packages\\seaborn\\_decorators.py:36: FutureWarning: Pass the following variable as a keyword arg: x. From version 0.12, the only valid positional argument will be `data`, and passing other arguments without an explicit keyword will result in an error or misinterpretation.\n",
      "  warnings.warn(\n",
      "C:\\Users\\sahit\\Anaconda3\\lib\\site-packages\\seaborn\\_decorators.py:36: FutureWarning: Pass the following variable as a keyword arg: x. From version 0.12, the only valid positional argument will be `data`, and passing other arguments without an explicit keyword will result in an error or misinterpretation.\n",
      "  warnings.warn(\n",
      "C:\\Users\\sahit\\Anaconda3\\lib\\site-packages\\seaborn\\_decorators.py:36: FutureWarning: Pass the following variable as a keyword arg: x. From version 0.12, the only valid positional argument will be `data`, and passing other arguments without an explicit keyword will result in an error or misinterpretation.\n",
      "  warnings.warn(\n",
      "C:\\Users\\sahit\\Anaconda3\\lib\\site-packages\\seaborn\\_decorators.py:36: FutureWarning: Pass the following variable as a keyword arg: x. From version 0.12, the only valid positional argument will be `data`, and passing other arguments without an explicit keyword will result in an error or misinterpretation.\n",
      "  warnings.warn(\n",
      "C:\\Users\\sahit\\Anaconda3\\lib\\site-packages\\seaborn\\_decorators.py:36: FutureWarning: Pass the following variable as a keyword arg: x. From version 0.12, the only valid positional argument will be `data`, and passing other arguments without an explicit keyword will result in an error or misinterpretation.\n",
      "  warnings.warn(\n"
     ]
    },
    {
     "name": "stdout",
     "output_type": "stream",
     "text": [
      "X: Counter({'DC': 3105, 'F': 939, 'MC': 678, 'LC': 526, 'PC': 490, 'TA': 430, 'PT': 379, 'A': 290})\n",
      "Y: Counter({'DC': 296, 'LC': 87, 'F': 83, 'MC': 71, 'PT': 66, 'TA': 65, 'A': 47, 'PC': 45})\n",
      "X: Counter({'DC': 3105, 'F': 939, 'MC': 678, 'LC': 526, 'PC': 490, 'TA': 430, 'PT': 379, 'A': 290})\n",
      "Y: Counter({'DC': 521, 'MC': 162, 'LC': 158, 'F': 148, 'TA': 132, 'A': 94, 'PC': 83, 'PT': 82})\n",
      "X: Counter({'DC': 3105, 'F': 939, 'MC': 678, 'LC': 526, 'PC': 490, 'TA': 430, 'PT': 379, 'A': 290})\n",
      "Y: Counter({'DC': 796, 'MC': 246, 'F': 213, 'LC': 210, 'TA': 183, 'A': 143, 'PC': 137, 'PT': 121})\n"
     ]
    },
    {
     "name": "stderr",
     "output_type": "stream",
     "text": [
      "C:\\Users\\sahit\\Anaconda3\\lib\\site-packages\\seaborn\\_decorators.py:36: FutureWarning: Pass the following variable as a keyword arg: x. From version 0.12, the only valid positional argument will be `data`, and passing other arguments without an explicit keyword will result in an error or misinterpretation.\n",
      "  warnings.warn(\n",
      "C:\\Users\\sahit\\Anaconda3\\lib\\site-packages\\seaborn\\_decorators.py:36: FutureWarning: Pass the following variable as a keyword arg: x. From version 0.12, the only valid positional argument will be `data`, and passing other arguments without an explicit keyword will result in an error or misinterpretation.\n",
      "  warnings.warn(\n",
      "C:\\Users\\sahit\\Anaconda3\\lib\\site-packages\\seaborn\\_decorators.py:36: FutureWarning: Pass the following variable as a keyword arg: x. From version 0.12, the only valid positional argument will be `data`, and passing other arguments without an explicit keyword will result in an error or misinterpretation.\n",
      "  warnings.warn(\n",
      "C:\\Users\\sahit\\Anaconda3\\lib\\site-packages\\seaborn\\_decorators.py:36: FutureWarning: Pass the following variable as a keyword arg: x. From version 0.12, the only valid positional argument will be `data`, and passing other arguments without an explicit keyword will result in an error or misinterpretation.\n",
      "  warnings.warn(\n",
      "C:\\Users\\sahit\\Anaconda3\\lib\\site-packages\\seaborn\\_decorators.py:36: FutureWarning: Pass the following variable as a keyword arg: x. From version 0.12, the only valid positional argument will be `data`, and passing other arguments without an explicit keyword will result in an error or misinterpretation.\n",
      "  warnings.warn(\n"
     ]
    },
    {
     "name": "stdout",
     "output_type": "stream",
     "text": [
      "X: Counter({'DC': 3105, 'F': 939, 'MC': 678, 'LC': 526, 'PC': 490, 'TA': 430, 'PT': 379, 'A': 290})\n",
      "Y: Counter({'DC': 1064, 'MC': 327, 'F': 283, 'LC': 276, 'TA': 253, 'A': 209, 'PC': 175, 'PT': 160})\n",
      "X: Counter({'DC': 3105, 'F': 939, 'MC': 678, 'LC': 526, 'PC': 490, 'TA': 430, 'PT': 379, 'A': 290})\n",
      "Y: Counter({'DC': 1410, 'MC': 432, 'F': 361, 'LC': 324, 'TA': 320, 'A': 275, 'PT': 226, 'PC': 220})\n"
     ]
    },
    {
     "data": {
      "image/png": "[encoded data removed]",
      "text/plain": [
       "<Figure size 432x288 with 1 Axes>"
      ]
     },
     "metadata": {},
     "output_type": "display_data"
    }
   ],
   "source": [
    "# 100X\n",
    "data_analysis(train_set, val_set)"
   ]
  },
  {
   "cell_type": "code",
   "execution_count": 45,
   "id": "a65c9694",
   "metadata": {},
   "outputs": [
    {
     "name": "stderr",
     "output_type": "stream",
     "text": [
      "C:\\Users\\sahit\\Anaconda3\\lib\\site-packages\\seaborn\\_decorators.py:36: FutureWarning: Pass the following variable as a keyword arg: x. From version 0.12, the only valid positional argument will be `data`, and passing other arguments without an explicit keyword will result in an error or misinterpretation.\n",
      "  warnings.warn(\n",
      "C:\\Users\\sahit\\Anaconda3\\lib\\site-packages\\seaborn\\_decorators.py:36: FutureWarning: Pass the following variable as a keyword arg: x. From version 0.12, the only valid positional argument will be `data`, and passing other arguments without an explicit keyword will result in an error or misinterpretation.\n",
      "  warnings.warn(\n",
      "C:\\Users\\sahit\\Anaconda3\\lib\\site-packages\\seaborn\\_decorators.py:36: FutureWarning: Pass the following variable as a keyword arg: x. From version 0.12, the only valid positional argument will be `data`, and passing other arguments without an explicit keyword will result in an error or misinterpretation.\n",
      "  warnings.warn(\n",
      "C:\\Users\\sahit\\Anaconda3\\lib\\site-packages\\seaborn\\_decorators.py:36: FutureWarning: Pass the following variable as a keyword arg: x. From version 0.12, the only valid positional argument will be `data`, and passing other arguments without an explicit keyword will result in an error or misinterpretation.\n",
      "  warnings.warn(\n",
      "C:\\Users\\sahit\\Anaconda3\\lib\\site-packages\\seaborn\\_decorators.py:36: FutureWarning: Pass the following variable as a keyword arg: x. From version 0.12, the only valid positional argument will be `data`, and passing other arguments without an explicit keyword will result in an error or misinterpretation.\n",
      "  warnings.warn(\n",
      "C:\\Users\\sahit\\Anaconda3\\lib\\site-packages\\seaborn\\_decorators.py:36: FutureWarning: Pass the following variable as a keyword arg: x. From version 0.12, the only valid positional argument will be `data`, and passing other arguments without an explicit keyword will result in an error or misinterpretation.\n",
      "  warnings.warn(\n"
     ]
    },
    {
     "name": "stdout",
     "output_type": "stream",
     "text": [
      "X: Counter({'DC': 3033, 'F': 962, 'MC': 618, 'LC': 503, 'PC': 461, 'TA': 415, 'PT': 338, 'A': 286})\n",
      "Y: Counter({'DC': 300, 'F': 92, 'LC': 87, 'TA': 63, 'MC': 55, 'PT': 52, 'A': 48, 'PC': 47})\n",
      "X: Counter({'DC': 3033, 'F': 962, 'MC': 618, 'LC': 503, 'PC': 461, 'TA': 415, 'PT': 338, 'A': 286})\n",
      "Y: Counter({'DC': 537, 'LC': 160, 'F': 147, 'MC': 139, 'TA': 114, 'A': 96, 'PC': 82, 'PT': 66})\n",
      "X: Counter({'DC': 3033, 'F': 962, 'MC': 618, 'LC': 503, 'PC': 461, 'TA': 415, 'PT': 338, 'A': 286})\n",
      "Y: Counter({'DC': 847, 'LC': 208, 'F': 202, 'MC': 199, 'TA': 163, 'A': 143, 'PC': 130, 'PT': 108})\n"
     ]
    },
    {
     "name": "stderr",
     "output_type": "stream",
     "text": [
      "C:\\Users\\sahit\\Anaconda3\\lib\\site-packages\\seaborn\\_decorators.py:36: FutureWarning: Pass the following variable as a keyword arg: x. From version 0.12, the only valid positional argument will be `data`, and passing other arguments without an explicit keyword will result in an error or misinterpretation.\n",
      "  warnings.warn(\n",
      "C:\\Users\\sahit\\Anaconda3\\lib\\site-packages\\seaborn\\_decorators.py:36: FutureWarning: Pass the following variable as a keyword arg: x. From version 0.12, the only valid positional argument will be `data`, and passing other arguments without an explicit keyword will result in an error or misinterpretation.\n",
      "  warnings.warn(\n",
      "C:\\Users\\sahit\\Anaconda3\\lib\\site-packages\\seaborn\\_decorators.py:36: FutureWarning: Pass the following variable as a keyword arg: x. From version 0.12, the only valid positional argument will be `data`, and passing other arguments without an explicit keyword will result in an error or misinterpretation.\n",
      "  warnings.warn(\n",
      "C:\\Users\\sahit\\Anaconda3\\lib\\site-packages\\seaborn\\_decorators.py:36: FutureWarning: Pass the following variable as a keyword arg: x. From version 0.12, the only valid positional argument will be `data`, and passing other arguments without an explicit keyword will result in an error or misinterpretation.\n",
      "  warnings.warn(\n"
     ]
    },
    {
     "name": "stdout",
     "output_type": "stream",
     "text": [
      "X: Counter({'DC': 3033, 'F': 962, 'MC': 618, 'LC': 503, 'PC': 461, 'TA': 415, 'PT': 338, 'A': 286})\n",
      "Y: Counter({'DC': 1130, 'MC': 276, 'F': 267, 'LC': 266, 'TA': 218, 'A': 206, 'PC': 166, 'PT': 150})\n",
      "X: Counter({'DC': 3033, 'F': 962, 'MC': 618, 'LC': 503, 'PC': 461, 'TA': 415, 'PT': 338, 'A': 286})\n",
      "Y: Counter({'DC': 1447, 'MC': 362, 'F': 358, 'LC': 312, 'TA': 285, 'A': 269, 'PC': 214, 'PT': 202})\n"
     ]
    },
    {
     "data": {
      "image/png": "[encoded data removed]",
      "text/plain": [
       "<Figure size 432x288 with 1 Axes>"
      ]
     },
     "metadata": {},
     "output_type": "display_data"
    }
   ],
   "source": [
    "# 200X\n",
    "data_analysis(train_set200, val_set200)"
   ]
  },
  {
   "cell_type": "code",
   "execution_count": 46,
   "id": "f31b638e",
   "metadata": {},
   "outputs": [
    {
     "name": "stderr",
     "output_type": "stream",
     "text": [
      "C:\\Users\\sahit\\Anaconda3\\lib\\site-packages\\seaborn\\_decorators.py:36: FutureWarning: Pass the following variable as a keyword arg: x. From version 0.12, the only valid positional argument will be `data`, and passing other arguments without an explicit keyword will result in an error or misinterpretation.\n",
      "  warnings.warn(\n",
      "C:\\Users\\sahit\\Anaconda3\\lib\\site-packages\\seaborn\\_decorators.py:36: FutureWarning: Pass the following variable as a keyword arg: x. From version 0.12, the only valid positional argument will be `data`, and passing other arguments without an explicit keyword will result in an error or misinterpretation.\n",
      "  warnings.warn(\n",
      "C:\\Users\\sahit\\Anaconda3\\lib\\site-packages\\seaborn\\_decorators.py:36: FutureWarning: Pass the following variable as a keyword arg: x. From version 0.12, the only valid positional argument will be `data`, and passing other arguments without an explicit keyword will result in an error or misinterpretation.\n",
      "  warnings.warn(\n",
      "C:\\Users\\sahit\\Anaconda3\\lib\\site-packages\\seaborn\\_decorators.py:36: FutureWarning: Pass the following variable as a keyword arg: x. From version 0.12, the only valid positional argument will be `data`, and passing other arguments without an explicit keyword will result in an error or misinterpretation.\n",
      "  warnings.warn(\n",
      "C:\\Users\\sahit\\Anaconda3\\lib\\site-packages\\seaborn\\_decorators.py:36: FutureWarning: Pass the following variable as a keyword arg: x. From version 0.12, the only valid positional argument will be `data`, and passing other arguments without an explicit keyword will result in an error or misinterpretation.\n",
      "  warnings.warn(\n",
      "C:\\Users\\sahit\\Anaconda3\\lib\\site-packages\\seaborn\\_decorators.py:36: FutureWarning: Pass the following variable as a keyword arg: x. From version 0.12, the only valid positional argument will be `data`, and passing other arguments without an explicit keyword will result in an error or misinterpretation.\n",
      "  warnings.warn(\n"
     ]
    },
    {
     "name": "stdout",
     "output_type": "stream",
     "text": [
      "X: Counter({'DC': 2684, 'F': 880, 'MC': 515, 'PC': 461, 'LC': 420, 'TA': 368, 'PT': 362, 'A': 271})\n",
      "Y: Counter({'DC': 244, 'F': 76, 'LC': 67, 'PT': 59, 'MC': 57, 'TA': 56, 'PC': 50, 'A': 46})\n",
      "X: Counter({'DC': 2684, 'F': 880, 'MC': 515, 'PC': 461, 'LC': 420, 'TA': 368, 'PT': 362, 'A': 271})\n",
      "Y: Counter({'DC': 463, 'MC': 126, 'LC': 125, 'F': 122, 'TA': 116, 'A': 92, 'PC': 89, 'PT': 76})\n",
      "X: Counter({'DC': 2684, 'F': 880, 'MC': 515, 'PC': 461, 'LC': 420, 'TA': 368, 'PT': 362, 'A': 271})\n",
      "Y: Counter({'DC': 713, 'MC': 192, 'LC': 171, 'F': 168, 'TA': 163, 'PC': 140, 'A': 139, 'PT': 115})\n",
      "X: Counter({'DC': 2684, 'F': 880, 'MC': 515, 'PC': 461, 'LC': 420, 'TA': 368, 'PT': 362, 'A': 271})\n",
      "Y: Counter({'DC': 956, 'MC': 254, 'F': 231, 'TA': 225, 'LC': 224, 'A': 199, 'PC': 179, 'PT': 154})\n"
     ]
    },
    {
     "name": "stderr",
     "output_type": "stream",
     "text": [
      "C:\\Users\\sahit\\Anaconda3\\lib\\site-packages\\seaborn\\_decorators.py:36: FutureWarning: Pass the following variable as a keyword arg: x. From version 0.12, the only valid positional argument will be `data`, and passing other arguments without an explicit keyword will result in an error or misinterpretation.\n",
      "  warnings.warn(\n",
      "C:\\Users\\sahit\\Anaconda3\\lib\\site-packages\\seaborn\\_decorators.py:36: FutureWarning: Pass the following variable as a keyword arg: x. From version 0.12, the only valid positional argument will be `data`, and passing other arguments without an explicit keyword will result in an error or misinterpretation.\n",
      "  warnings.warn(\n",
      "C:\\Users\\sahit\\Anaconda3\\lib\\site-packages\\seaborn\\_decorators.py:36: FutureWarning: Pass the following variable as a keyword arg: x. From version 0.12, the only valid positional argument will be `data`, and passing other arguments without an explicit keyword will result in an error or misinterpretation.\n",
      "  warnings.warn(\n",
      "C:\\Users\\sahit\\Anaconda3\\lib\\site-packages\\seaborn\\_decorators.py:36: FutureWarning: Pass the following variable as a keyword arg: x. From version 0.12, the only valid positional argument will be `data`, and passing other arguments without an explicit keyword will result in an error or misinterpretation.\n",
      "  warnings.warn(\n"
     ]
    },
    {
     "name": "stdout",
     "output_type": "stream",
     "text": [
      "X: Counter({'DC': 2684, 'F': 880, 'MC': 515, 'PC': 461, 'LC': 420, 'TA': 368, 'PT': 362, 'A': 271})\n",
      "Y: Counter({'DC': 1256, 'MC': 330, 'F': 305, 'TA': 282, 'LC': 265, 'A': 259, 'PC': 229, 'PT': 213})\n"
     ]
    },
    {
     "data": {
      "image/png": "[encoded data removed]",
      "text/plain": [
       "<Figure size 432x288 with 1 Axes>"
      ]
     },
     "metadata": {},
     "output_type": "display_data"
    }
   ],
   "source": [
    "# 400X\n",
    "data_analysis(train_set400, val_set400)"
   ]
  },
  {
   "cell_type": "code",
   "execution_count": 129,
   "id": "263a337d",
   "metadata": {},
   "outputs": [],
   "source": [
    "# visualize random Benign tumor\n",
    "\n",
    "# plt.figure(figsize = (5,5))\n",
    "# plt.imshow(train[1][0])\n",
    "# plt.title(train[0][1])"
   ]
  },
  {
   "cell_type": "code",
   "execution_count": 130,
   "id": "b22495a5",
   "metadata": {},
   "outputs": [],
   "source": [
    "# visualize random Malignant tumor\n",
    "\n",
    "# plt.figure(figsize = (5,5))\n",
    "# plt.imshow(train[-1][0])\n",
    "# plt.title(train[-1][1])"
   ]
  },
  {
   "cell_type": "markdown",
   "id": "cb79fd42",
   "metadata": {},
   "source": [
    "# View how much data is available per fold per magnification level"
   ]
  },
  {
   "cell_type": "code",
   "execution_count": 106,
   "id": "49cd7bb8",
   "metadata": {},
   "outputs": [],
   "source": [
    "def folds_analysis(train, test):\n",
    "    x = []\n",
    "    for i in train:\n",
    "        if i[1] == 0:\n",
    "            x.append(\"A\")\n",
    "        elif i[1] == 1:\n",
    "            x.append(\"F\")\n",
    "        elif i[1] == 2:\n",
    "            x.append(\"PT\")\n",
    "        elif i[1] == 3:\n",
    "            x.append(\"TA\")\n",
    "        elif i[1] == 4:\n",
    "            x.append(\"DC\")\n",
    "        elif i[1] == 5:\n",
    "            x.append(\"LC\")\n",
    "        elif i[1] == 6:\n",
    "            x.append(\"MC\")\n",
    "        elif i[1] == 7:\n",
    "            x.append(\"PC\")\n",
    "            \n",
    "    y = []\n",
    "    for j in test:\n",
    "        if j[1] == 0:\n",
    "            y.append(\"A\")\n",
    "        elif j[1] == 1:\n",
    "            y.append(\"F\")\n",
    "        elif j[1] == 2:\n",
    "            y.append(\"PT\")\n",
    "        elif j[1] == 3:\n",
    "            y.append(\"TA\")\n",
    "        elif j[1] == 4:\n",
    "            y.append(\"DC\")\n",
    "        elif j[1] == 5:\n",
    "            y.append(\"LC\")\n",
    "        elif j[1] == 6:\n",
    "            y.append(\"MC\")\n",
    "        elif j[1] == 7:\n",
    "            y.append(\"PC\")\n",
    "    \n",
    "    xcount = Counter(x)\n",
    "    ycount = Counter(y)\n",
    "    \n",
    "    print(\"Test Count: \", sorted(xcount.items()))    \n",
    "    print(\"Val Count: \", sorted(ycount.items()))\n",
    "    \n",
    "#     plt.figure()\n",
    "#     sns.countplot(x)\n",
    "#     plt.show()\n",
    "    \n",
    "#     plt.figure()\n",
    "#     sns.countplot(y)\n",
    "#     plt.show()\n",
    "            \n",
    "    return x, y"
   ]
  },
  {
   "cell_type": "code",
   "execution_count": 108,
   "id": "7d8fd1a9",
   "metadata": {
    "scrolled": true
   },
   "outputs": [
    {
     "name": "stdout",
     "output_type": "stream",
     "text": [
      "Fold Number: 1\n",
      "Test Count:  [('A', 64), ('DC', 566), ('F', 173), ('LC', 73), ('MC', 143), ('PC', 98), ('PT', 51), ('TA', 82)]\n",
      "Val Count:  [('A', 50), ('DC', 298), ('F', 80), ('LC', 83), ('MC', 62), ('PC', 47), ('PT', 58), ('TA', 67)]\n",
      "Fold Number: 2\n",
      "Test Count:  [('A', 64), ('DC', 625), ('F', 187), ('LC', 83), ('MC', 117), ('PC', 105), ('PT', 96), ('TA', 86)]\n",
      "Val Count:  [('A', 50), ('DC', 239), ('F', 66), ('LC', 73), ('MC', 88), ('PC', 40), ('PT', 13), ('TA', 63)]\n",
      "Fold Number: 3\n",
      "Test Count:  [('A', 64), ('DC', 587), ('F', 187), ('LC', 103), ('MC', 134), ('PC', 91), ('PT', 71), ('TA', 101)]\n",
      "Val Count:  [('A', 50), ('DC', 277), ('F', 66), ('LC', 53), ('MC', 71), ('PC', 54), ('PT', 38), ('TA', 48)]\n",
      "Fold Number: 4\n",
      "Test Count:  [('A', 50), ('DC', 575), ('F', 181), ('LC', 105), ('MC', 128), ('PC', 103), ('PT', 71), ('TA', 82)]\n",
      "Val Count:  [('A', 64), ('DC', 289), ('F', 72), ('LC', 51), ('MC', 77), ('PC', 42), ('PT', 38), ('TA', 67)]\n",
      "Fold Number: 5\n",
      "Test Count:  [('A', 50), ('DC', 542), ('F', 176), ('LC', 114), ('MC', 113), ('PC', 96), ('PT', 51), ('TA', 78)]\n",
      "Val Count:  [('A', 64), ('DC', 322), ('F', 77), ('LC', 42), ('MC', 92), ('PC', 49), ('PT', 58), ('TA', 71)]\n"
     ]
    }
   ],
   "source": [
    "# 40X\n",
    "for fold in range(len(train_set)):\n",
    "    print(\"Fold Number:\", fold+1)\n",
    "    folds_analysis(train_set40[fold], val_set40[fold])"
   ]
  },
  {
   "cell_type": "code",
   "execution_count": 107,
   "id": "bea187ba",
   "metadata": {},
   "outputs": [
    {
     "name": "stdout",
     "output_type": "stream",
     "text": [
      "Fold Number: 1\n",
      "Test Count:  [('A', 66), ('DC', 607), ('F', 177), ('LC', 83), ('MC', 151), ('PC', 97), ('PT', 55), ('TA', 85)]\n",
      "Val Count:  [('A', 47), ('DC', 296), ('F', 83), ('LC', 87), ('MC', 71), ('PC', 45), ('PT', 66), ('TA', 65)]\n",
      "Fold Number: 2\n",
      "Test Count:  [('A', 66), ('DC', 678), ('F', 195), ('LC', 99), ('MC', 131), ('PC', 104), ('PT', 105), ('TA', 83)]\n",
      "Val Count:  [('A', 47), ('DC', 225), ('F', 65), ('LC', 71), ('MC', 91), ('PC', 38), ('PT', 16), ('TA', 67)]\n",
      "Fold Number: 3\n",
      "Test Count:  [('A', 64), ('DC', 628), ('F', 195), ('LC', 118), ('MC', 138), ('PC', 88), ('PT', 82), ('TA', 99)]\n",
      "Val Count:  [('A', 49), ('DC', 275), ('F', 65), ('LC', 52), ('MC', 84), ('PC', 54), ('PT', 39), ('TA', 51)]\n",
      "Fold Number: 4\n",
      "Test Count:  [('A', 47), ('DC', 635), ('F', 190), ('LC', 104), ('MC', 141), ('PC', 104), ('PT', 82), ('TA', 80)]\n",
      "Val Count:  [('A', 66), ('DC', 268), ('F', 70), ('LC', 66), ('MC', 81), ('PC', 38), ('PT', 39), ('TA', 70)]\n",
      "Fold Number: 5\n",
      "Test Count:  [('A', 47), ('DC', 557), ('F', 182), ('LC', 122), ('MC', 117), ('PC', 97), ('PT', 55), ('TA', 83)]\n",
      "Val Count:  [('A', 66), ('DC', 346), ('F', 78), ('LC', 48), ('MC', 105), ('PC', 45), ('PT', 66), ('TA', 67)]\n"
     ]
    }
   ],
   "source": [
    "# 100X\n",
    "for fold in range(len(train_set)):\n",
    "    print(\"Fold Number:\", fold+1)\n",
    "    folds_analysis(train_set[fold], val_set[fold])"
   ]
  },
  {
   "cell_type": "code",
   "execution_count": 109,
   "id": "24dbf780",
   "metadata": {},
   "outputs": [
    {
     "name": "stdout",
     "output_type": "stream",
     "text": [
      "Fold Number: 1\n",
      "Test Count:  [('A', 63), ('DC', 596), ('F', 172), ('LC', 76), ('MC', 141), ('PC', 88), ('PT', 56), ('TA', 77)]\n",
      "Val Count:  [('A', 48), ('DC', 300), ('F', 92), ('LC', 87), ('MC', 55), ('PC', 47), ('PT', 52), ('TA', 63)]\n",
      "Fold Number: 2\n",
      "Test Count:  [('A', 63), ('DC', 659), ('F', 209), ('LC', 90), ('MC', 112), ('PC', 100), ('PT', 94), ('TA', 89)]\n",
      "Val Count:  [('A', 48), ('DC', 237), ('F', 55), ('LC', 73), ('MC', 84), ('PC', 35), ('PT', 14), ('TA', 51)]\n",
      "Fold Number: 3\n",
      "Test Count:  [('A', 64), ('DC', 586), ('F', 209), ('LC', 115), ('MC', 136), ('PC', 87), ('PT', 66), ('TA', 91)]\n",
      "Val Count:  [('A', 47), ('DC', 310), ('F', 55), ('LC', 48), ('MC', 60), ('PC', 48), ('PT', 42), ('TA', 49)]\n",
      "Fold Number: 4\n",
      "Test Count:  [('A', 48), ('DC', 613), ('F', 199), ('LC', 105), ('MC', 119), ('PC', 99), ('PT', 66), ('TA', 85)]\n",
      "Val Count:  [('A', 63), ('DC', 283), ('F', 65), ('LC', 58), ('MC', 77), ('PC', 36), ('PT', 42), ('TA', 55)]\n",
      "Fold Number: 5\n",
      "Test Count:  [('A', 48), ('DC', 579), ('F', 173), ('LC', 117), ('MC', 110), ('PC', 87), ('PT', 56), ('TA', 73)]\n",
      "Val Count:  [('A', 63), ('DC', 317), ('F', 91), ('LC', 46), ('MC', 86), ('PC', 48), ('PT', 52), ('TA', 67)]\n"
     ]
    }
   ],
   "source": [
    "# 200X\n",
    "for fold in range(len(train_set)):\n",
    "    print(\"Fold Number:\", fold+1)\n",
    "    folds_analysis(train_set200[fold], val_set200[fold])"
   ]
  },
  {
   "cell_type": "code",
   "execution_count": 110,
   "id": "ead72d0e",
   "metadata": {},
   "outputs": [
    {
     "name": "stdout",
     "output_type": "stream",
     "text": [
      "Fold Number: 1\n",
      "Test Count:  [('A', 60), ('DC', 544), ('F', 161), ('LC', 70), ('MC', 112), ('PC', 88), ('PT', 56), ('TA', 74)]\n",
      "Val Count:  [('A', 46), ('DC', 244), ('F', 76), ('LC', 67), ('MC', 57), ('PC', 50), ('PT', 59), ('TA', 56)]\n",
      "Fold Number: 2\n",
      "Test Count:  [('A', 60), ('DC', 569), ('F', 191), ('LC', 79), ('MC', 100), ('PC', 99), ('PT', 98), ('TA', 70)]\n",
      "Val Count:  [('A', 46), ('DC', 219), ('F', 46), ('LC', 58), ('MC', 69), ('PC', 39), ('PT', 17), ('TA', 60)]\n",
      "Fold Number: 3\n",
      "Test Count:  [('A', 59), ('DC', 538), ('F', 191), ('LC', 91), ('MC', 103), ('PC', 87), ('PT', 76), ('TA', 83)]\n",
      "Val Count:  [('A', 47), ('DC', 250), ('F', 46), ('LC', 46), ('MC', 66), ('PC', 51), ('PT', 39), ('TA', 47)]\n",
      "Fold Number: 4\n",
      "Test Count:  [('A', 46), ('DC', 545), ('F', 174), ('LC', 84), ('MC', 107), ('PC', 99), ('PT', 76), ('TA', 68)]\n",
      "Val Count:  [('A', 60), ('DC', 243), ('F', 63), ('LC', 53), ('MC', 62), ('PC', 39), ('PT', 39), ('TA', 62)]\n",
      "Fold Number: 5\n",
      "Test Count:  [('A', 46), ('DC', 488), ('F', 163), ('LC', 96), ('MC', 93), ('PC', 88), ('PT', 56), ('TA', 73)]\n",
      "Val Count:  [('A', 60), ('DC', 300), ('F', 74), ('LC', 41), ('MC', 76), ('PC', 50), ('PT', 59), ('TA', 57)]\n"
     ]
    }
   ],
   "source": [
    "# 400X\n",
    "for fold in range(len(train_set)):\n",
    "    print(\"Fold Number:\", fold+1)\n",
    "    folds_analysis(train_set400[fold], val_set400[fold])"
   ]
  },
  {
   "cell_type": "code",
   "execution_count": null,
   "id": "23170961",
   "metadata": {},
   "outputs": [],
   "source": []
  }
 ],
 "metadata": {
  "kernelspec": {
   "display_name": "Python 3",
   "language": "python",
   "name": "python3"
  },
  "language_info": {
   "codemirror_mode": {
    "name": "ipython",
    "version": 3
   },
   "file_extension": ".py",
   "mimetype": "text/x-python",
   "name": "python",
   "nbconvert_exporter": "python",
   "pygments_lexer": "ipython3",
   "version": "3.8.8"
  }
 },
 "nbformat": 4,
 "nbformat_minor": 5
}
